{
  "cells": [
    {
      "cell_type": "code",
      "execution_count": null,
      "metadata": {
        "id": "cBwB7uEknO5z"
      },
      "outputs": [],
      "source": [
        "#匯入模組\n",
        "import numpy as np\n",
        "import matplotlib.pyplot as plt\n",
        "import sympy as smp\n",
        "from scipy.integrate import odeint\n",
        "import math"
      ]
    },
    {
      "cell_type": "code",
      "execution_count": null,
      "metadata": {
        "id": "uBL161IVnQDr"
      },
      "outputs": [],
      "source": [
        "t,l,m,k,u_b,u_p = smp.symbols('t l m k mu_b mu_p',real=True)\n",
        "the, phi = smp.symbols(r'\\theta \\phi',cls=smp.Function)\n",
        "#角度\n",
        "the = the(t)\n",
        "phi = phi(t)\n",
        "\n",
        "#角速度\n",
        "the_d = smp.diff(the,t)\n",
        "phi_d = smp.diff(phi,t)\n",
        "\n",
        "#角加速度\n",
        "the_dd = smp.diff(the_d,t)\n",
        "phi_dd = smp.diff(phi_d,t)\n"
      ]
    },
    {
      "cell_type": "code",
      "execution_count": null,
      "metadata": {
        "id": "u-XIcNaCnRuZ"
      },
      "outputs": [],
      "source": [
        "#命名變數\n",
        "g=9.80665 #(單位:米/秒^2)\n",
        "l=0.08   #(單位:公尺)\n",
        "m=0.08  #(單位:公斤)\n",
        "k=0.12  #(單位:公尺)\n",
        "u_b_1 = 1.4043748542 #(單位:安培*公尺^2)\n",
        "u_b_2 = u_b_1\n",
        "u_p = 4.35534857444  #(單位:安培*公尺^2)\n",
        "u_0 = 1.25663706212*10**(-6)"
      ]
    },
    {
      "cell_type": "code",
      "source": [
        "#磁場(偷懶)\n",
        "K=4.6*10**(-14)\n",
        "vector_r_1 = smp.Matrix([l*smp.sin(the)*smp.cos(phi),l*smp.sin(the)*smp.sin(phi)+0.04,k-l*smp.cos(the)])\n",
        "vector_r_2 = smp.Matrix([l*smp.sin(the)*smp.cos(phi),l*smp.sin(the)*smp.sin(phi)-0.04,k-l*smp.cos(the)])\n",
        "U1 = -K/(vector_r_1.norm()**8)\n",
        "U2 = -K/(vector_r_2.norm()**8)\n",
        "U_b = U1+U2"
      ],
      "metadata": {
        "id": "oQ7TQjidjhcq"
      },
      "execution_count": null,
      "outputs": []
    },
    {
      "cell_type": "code",
      "execution_count": null,
      "metadata": {
        "id": "c7U8X5FxoXNd"
      },
      "outputs": [],
      "source": [
        "#拉格朗日\n",
        "\n",
        "#動能\n",
        "T = 1/2*m*l**2*the_d**2+1/2*m*l**2*smp.sin(the)**2*phi_d**2\n",
        "\n",
        "#位能\n",
        "U_g = -m*g*l*smp.cos(the)\n",
        "#U_b = +0.0324*smp.exp(-the/0.05203)*smp.sin(math.pi*(the+4.69227)/0.23256)\n",
        "\n",
        "#拉格朗日\n",
        "L = T-U_g-U_b"
      ]
    },
    {
      "cell_type": "code",
      "execution_count": null,
      "metadata": {
        "id": "Fn596_NUobeE"
      },
      "outputs": [],
      "source": [
        "#微分、偏微分\n",
        "LE1 = smp.diff(L,the)-smp.diff(smp.diff(L,the_d),t)\n",
        "LE1.simplify()\n",
        "LE2 = smp.diff(L,phi)-smp.diff(smp.diff(L,phi_d),t)\n",
        "LE2.simplify()\n",
        "\n",
        "#解微分方程\n",
        "sols = smp.solve([LE1, LE2],(the_dd,phi_dd),simplify=False,rational=False)"
      ]
    },
    {
      "cell_type": "code",
      "execution_count": null,
      "metadata": {
        "id": "YM1V-l7nodqw"
      },
      "outputs": [],
      "source": [
        "#運動方程1\n",
        "dz1dt_f = smp.lambdify((the,phi,the_d,phi_d),sols[the_dd]-2*the_d*0.11) #回傳角加速度\n",
        "dthedt_f = smp.lambdify(the_d,the_d) #回傳角速度=角速度\n",
        "\n",
        "#運動方程2\n",
        "dz2dt_f = smp.lambdify((the,phi,the_d,phi_d),sols[phi_dd]-2*phi_d*0.11) #回傳角加速度\n",
        "dphidt_f = smp.lambdify(phi_d,phi_d) #回傳角速度=角速度\n",
        "\n",
        "#定義會回傳[the、phi、the_d、phi_d]的函式\n",
        "def dSdt(S,t):\n",
        "  the, phi, z1, z2= S\n",
        "  return [\n",
        "      dthedt_f(z1),\n",
        "      dphidt_f(z2),\n",
        "      dz1dt_f(the,phi,z1,z2),\n",
        "      dz2dt_f(the,phi,z1,z2),]"
      ]
    },
    {
      "cell_type": "code",
      "execution_count": null,
      "metadata": {
        "id": "BWz593PsolKe"
      },
      "outputs": [],
      "source": [
        "#跑數值解\n",
        "time = 15 #總時長\n",
        "dt = 0.001 #時間間隔\n",
        "t = np.linspace(0,time,int(time/dt)) #內插建立時間表\n",
        "\n",
        "ans = odeint(dSdt,y0=[0.6,0,0,0.1],t=t)"
      ]
    },
    {
      "cell_type": "code",
      "execution_count": null,
      "metadata": {
        "id": "s4Mo44W1omsc"
      },
      "outputs": [],
      "source": [
        "#匯出數值解結果\n",
        "r_the = ans.T[0]  #角度the數值解結果\n",
        "r_phi = ans.T[1]  #角度phi數值解結果\n",
        "r_the_d = ans.T[2] #角速度the_d數值解結果\n",
        "r_phi_d = ans.T[3] #角速度phi_d數值解結果\n",
        "\n",
        "#畫圖\n",
        "plt.figure(figsize=(12,2))\n",
        "plt.plot(t,r_the,color='chocolate')  #繪圖(x軸,y軸,顏色=\"?!\")\n",
        "plt.show()\n",
        "plt.figure(figsize=(12,2))\n",
        "plt.plot(t,r_phi_d,color='purple')  #繪圖(x軸,y軸,顏色=\"?!\")\n",
        "plt.show() #秀出圖表"
      ]
    },
    {
      "cell_type": "code",
      "execution_count": null,
      "metadata": {
        "id": "kdNvbqxcooO0"
      },
      "outputs": [],
      "source": [
        "path=r\"Numerical Solution.txt\"\n",
        "with open(path,'w') as f:\n",
        "  f.write(str([dt,l,m,k])+\"\\n\")\n",
        "  for n in range(0,int(time/dt)-1):\n",
        "    f.write(str([n*dt,r_the[n],r_phi[n],r_the_d[n],r_phi_d[n]])+\"\\n\")\n",
        "  f.close()"
      ]
    },
    {
      "cell_type": "code",
      "execution_count": null,
      "metadata": {
        "id": "95A4H0cbnZEN"
      },
      "outputs": [],
      "source": [
        "#磁場(拉格朗日)\n",
        "vector_u_b_1 = smp.Matrix([0,0,u_b_1])\n",
        "vector_u_b_2 = smp.Matrix([0,0,u_b_2])\n",
        "vector_u_p = smp.Matrix([-l*smp.sin(the)*smp.cos(phi),-l*smp.sin(the)*smp.sin(phi),l*smp.cos(the)])\n",
        "vector_r_1 = smp.Matrix([l*smp.sin(the)*smp.cos(phi),l*smp.sin(the)*smp.sin(phi)+0.04,k-l*smp.cos(the)])\n",
        "vector_r_2 = smp.Matrix([l*smp.sin(the)*smp.cos(phi),l*smp.sin(the)*smp.sin(phi)-0.04,k-l*smp.cos(the)])\n",
        "vector_B_1 = u_0/4/math.pi*(3*vector_r_1*(vector_u_b_1.dot(vector_r_1))/(vector_r_1.norm()**5)-vector_u_b_1/(vector_r_1.norm()**3))\n",
        "vector_B_2 = u_0/4/math.pi*(3*vector_r_2*(vector_u_b_2.dot(vector_r_2))/(vector_r_2.norm()**5)-vector_u_b_2/(vector_r_2.norm()**3))\n",
        "U1 = -vector_u_p.dot(vector_B_1)\n",
        "U2 = -vector_u_p.dot(vector_B_2)\n",
        "U_b = U1+U2"
      ]
    }
  ],
  "metadata": {
    "colab": {
      "provenance": []
    },
    "kernelspec": {
      "display_name": "Python 3",
      "name": "python3"
    },
    "language_info": {
      "name": "python"
    }
  },
  "nbformat": 4,
  "nbformat_minor": 0
}