{
  "nbformat": 4,
  "nbformat_minor": 0,
  "metadata": {
    "colab": {
      "provenance": []
    },
    "kernelspec": {
      "name": "python3",
      "display_name": "Python 3"
    },
    "language_info": {
      "name": "python"
    }
  },
  "cells": [
    {
      "cell_type": "code",
      "execution_count": null,
      "metadata": {
        "id": "KLXxT-aoSEoI"
      },
      "outputs": [],
      "source": [
        "#匯入模組\n",
        "import numpy as np\n",
        "import matplotlib.pyplot as plt\n",
        "import sympy as smp\n",
        "from scipy.integrate import odeint\n",
        "import math"
      ]
    },
    {
      "cell_type": "code",
      "source": [
        "t,l,m,k,u_b,u_p = smp.symbols('t l m k mu_b mu_p',real=True)\n",
        "x, y, z = smp.symbols(r'\\x \\y \\z',cls=smp.Function)\n",
        "\n",
        "x = x(t)\n",
        "y = y(t)\n",
        "z = z(t)\n",
        "\n",
        "x_d = smp.diff(x,t)\n",
        "y_d = smp.diff(y,t)\n",
        "z_d = smp.diff(z,t)\n",
        "\n",
        "x_dd = smp.diff(x_d,t)\n",
        "y_dd = smp.diff(y_d,t)\n",
        "z_dd = smp.diff(z_d,t)"
      ],
      "metadata": {
        "colab": {
          "base_uri": "https://localhost:8080/",
          "height": 35
        },
        "id": "O_Y97lHnSLAZ",
        "outputId": "8a8c427b-6c41-4bbc-9d50-f1bbcfdfcc36"
      },
      "execution_count": null,
      "outputs": [
        {
          "output_type": "execute_result",
          "data": {
            "text/plain": [
              "\\x(t)"
            ],
            "text/latex": "$\\displaystyle \\x{\\left(t \\right)}$"
          },
          "metadata": {},
          "execution_count": 12
        }
      ]
    },
    {
      "cell_type": "code",
      "source": [
        "#命名變數\n",
        "g=9.80665 #(單位:米/秒^2)\n",
        "l=0.282   #(單位:公尺)\n",
        "m=0.09  #(單位:公斤)\n",
        "k=0.3235  #(單位:公尺)\n",
        "u_b = 1.4043748542 #(單位:安培*公尺^2)\n",
        "u_p = 4.35534857444  #(單位:安培*公尺^2)\n",
        "u_0 = 1.25663706212*10**(-6)"
      ],
      "metadata": {
        "id": "t_0TWhyGSjht"
      },
      "execution_count": null,
      "outputs": []
    },
    {
      "cell_type": "code",
      "source": [
        "#拉格朗日\n",
        "\n",
        "#動能\n",
        "T = 1/2*m*(x_d**2+y_d**2+z_d**2)\n",
        "\n",
        "#位能\n",
        "U_g = -m*g*z\n",
        "U_b = -6.8744*10**(-5)+0.0324*smp.exp(-z/0.05203)*smp.sin(math.pi*(z+4.69227)/0.23256)\n",
        "\n",
        "#拉格朗日\n",
        "L = T-U_g+U_b"
      ],
      "metadata": {
        "id": "pFY31-UISksb"
      },
      "execution_count": null,
      "outputs": []
    },
    {
      "cell_type": "code",
      "source": [
        "constraint = x**2+y**2+z**2-l**2\n",
        "constraint.simplify()"
      ],
      "metadata": {
        "colab": {
          "base_uri": "https://localhost:8080/",
          "height": 35
        },
        "id": "HZ_3ZGvgTidS",
        "outputId": "b34f8c59-94c5-43a4-c9ea-25bd77043ba7"
      },
      "execution_count": null,
      "outputs": [
        {
          "output_type": "execute_result",
          "data": {
            "text/plain": [
              "\\x(t)**2 + \\y(t)**2 + \\z(t)**2 - 0.079524"
            ],
            "text/latex": "$\\displaystyle \\x^{2}{\\left(t \\right)} + \\y^{2}{\\left(t \\right)} + \\z^{2}{\\left(t \\right)} - 0.079524$"
          },
          "metadata": {},
          "execution_count": 10
        }
      ]
    },
    {
      "cell_type": "code",
      "source": [
        "#微分、偏微分\n",
        "LE1 = smp.diff(L,x)-smp.diff(smp.diff(L,x_d),t)\n",
        "LE1.simplify()\n",
        "LE2 = smp.diff(L,y)-smp.diff(smp.diff(L,y_d),t)\n",
        "LE2.simplify()\n",
        "LE3 = smp.diff(L,z)-smp.diff(smp.diff(L,z_d),t)\n",
        "LE3.simplify()\n",
        "\n",
        "#解微分方程\n",
        "sols = smp.solve([LE1, LE2, LE3, constraint],(x_dd,y_dd,z_dd),simplify=False,rational=False)"
      ],
      "metadata": {
        "id": "j1q7y9WvTx8Z"
      },
      "execution_count": null,
      "outputs": []
    },
    {
      "cell_type": "code",
      "source": [
        "#運動方程1\n",
        "dz1dt_f = smp.lambdify((x,y,z,x_d,y_d,z_d),sols[x_dd]) #回傳角加速度\n",
        "dxdt_f = smp.lambdify(x_d,x_d) #回傳角速度=角速度\n",
        "\n",
        "#運動方程2\n",
        "dz2dt_f = smp.lambdify((x,y,z,x_d,y_d,z_d),sols[y_dd]) #回傳角加速度\n",
        "dydt_f = smp.lambdify(y_d,y_d) #回傳角速度=角速度\n",
        "\n",
        "#運動方程3\n",
        "dz3dt_f = smp.lambdify((x,y,z,x_d,y_d,z_d),sols[z_dd]) #回傳角加速度\n",
        "dzdt_f = smp.lambdify(z_d,z_d) #回傳角速度=角速度\n",
        "\n",
        "#定義會回傳[the、phi、the_d、phi_d]的函式\n",
        "def dSdt(S,t):\n",
        "  x,y,z,z1,z2,z3= S\n",
        "  return [\n",
        "      dxdt_f(z1),\n",
        "      dydt_f(z2),\n",
        "      dzdt_f(z3),\n",
        "      dz1dt_f(x,y,z,z1,z2,z3),\n",
        "      dz2dt_f(x,y,z,z1,z2,z3),\n",
        "      dz3dt_f(x,y,z,z1,z2,z3)]"
      ],
      "metadata": {
        "id": "lNySDe4fUM0s"
      },
      "execution_count": null,
      "outputs": []
    },
    {
      "cell_type": "code",
      "source": [
        "#跑數值解\n",
        "time = 30 #總時長\n",
        "dt = 0.01 #時間間隔\n",
        "t = np.linspace(0,time,int(time/dt)) #內插建立時間表\n",
        "\n",
        "ans = odeint(dSdt,y0=[l,0,0,0,0,0],t=t)\n",
        "\n",
        "\n"
      ],
      "metadata": {
        "colab": {
          "base_uri": "https://localhost:8080/",
          "height": 363
        },
        "id": "Jh3yBGMwUxXk",
        "outputId": "5c458fef-8c89-4311-af1d-13624d7737ff"
      },
      "execution_count": null,
      "outputs": [
        {
          "output_type": "error",
          "ename": "TypeError",
          "evalue": "Cannot convert expression to float",
          "traceback": [
            "\u001b[0;31m---------------------------------------------------------------------------\u001b[0m",
            "\u001b[0;31mTypeError\u001b[0m                                 Traceback (most recent call last)",
            "\u001b[0;32m<ipython-input-19-6ebac61830e7>\u001b[0m in \u001b[0;36m<cell line: 0>\u001b[0;34m()\u001b[0m\n\u001b[1;32m      4\u001b[0m \u001b[0mt\u001b[0m \u001b[0;34m=\u001b[0m \u001b[0mnp\u001b[0m\u001b[0;34m.\u001b[0m\u001b[0mlinspace\u001b[0m\u001b[0;34m(\u001b[0m\u001b[0;36m0\u001b[0m\u001b[0;34m,\u001b[0m\u001b[0mtime\u001b[0m\u001b[0;34m,\u001b[0m\u001b[0mint\u001b[0m\u001b[0;34m(\u001b[0m\u001b[0mtime\u001b[0m\u001b[0;34m/\u001b[0m\u001b[0mdt\u001b[0m\u001b[0;34m)\u001b[0m\u001b[0;34m)\u001b[0m \u001b[0;31m#內插建立時間表\u001b[0m\u001b[0;34m\u001b[0m\u001b[0;34m\u001b[0m\u001b[0m\n\u001b[1;32m      5\u001b[0m \u001b[0;34m\u001b[0m\u001b[0m\n\u001b[0;32m----> 6\u001b[0;31m \u001b[0mans\u001b[0m \u001b[0;34m=\u001b[0m \u001b[0modeint\u001b[0m\u001b[0;34m(\u001b[0m\u001b[0mdSdt\u001b[0m\u001b[0;34m,\u001b[0m\u001b[0my0\u001b[0m\u001b[0;34m=\u001b[0m\u001b[0;34m[\u001b[0m\u001b[0ml\u001b[0m\u001b[0;34m,\u001b[0m\u001b[0;36m0\u001b[0m\u001b[0;34m,\u001b[0m\u001b[0;36m0\u001b[0m\u001b[0;34m,\u001b[0m\u001b[0;36m0\u001b[0m\u001b[0;34m,\u001b[0m\u001b[0;36m0\u001b[0m\u001b[0;34m,\u001b[0m\u001b[0;36m0\u001b[0m\u001b[0;34m]\u001b[0m\u001b[0;34m,\u001b[0m\u001b[0mt\u001b[0m\u001b[0;34m=\u001b[0m\u001b[0mt\u001b[0m\u001b[0;34m)\u001b[0m\u001b[0;34m\u001b[0m\u001b[0;34m\u001b[0m\u001b[0m\n\u001b[0m\u001b[1;32m      7\u001b[0m \u001b[0;34m\u001b[0m\u001b[0m\n\u001b[1;32m      8\u001b[0m \u001b[0;34m\u001b[0m\u001b[0m\n",
            "\u001b[0;32m/usr/local/lib/python3.11/dist-packages/scipy/integrate/_odepack_py.py\u001b[0m in \u001b[0;36modeint\u001b[0;34m(func, y0, t, args, Dfun, col_deriv, full_output, ml, mu, rtol, atol, tcrit, h0, hmax, hmin, ixpr, mxstep, mxhnil, mxordn, mxords, printmessg, tfirst)\u001b[0m\n\u001b[1;32m    241\u001b[0m     \u001b[0mt\u001b[0m \u001b[0;34m=\u001b[0m \u001b[0mcopy\u001b[0m\u001b[0;34m(\u001b[0m\u001b[0mt\u001b[0m\u001b[0;34m)\u001b[0m\u001b[0;34m\u001b[0m\u001b[0;34m\u001b[0m\u001b[0m\n\u001b[1;32m    242\u001b[0m     \u001b[0my0\u001b[0m \u001b[0;34m=\u001b[0m \u001b[0mcopy\u001b[0m\u001b[0;34m(\u001b[0m\u001b[0my0\u001b[0m\u001b[0;34m)\u001b[0m\u001b[0;34m\u001b[0m\u001b[0;34m\u001b[0m\u001b[0m\n\u001b[0;32m--> 243\u001b[0;31m     output = _odepack.odeint(func, y0, t, args, Dfun, col_deriv, ml, mu,\n\u001b[0m\u001b[1;32m    244\u001b[0m                              \u001b[0mfull_output\u001b[0m\u001b[0;34m,\u001b[0m \u001b[0mrtol\u001b[0m\u001b[0;34m,\u001b[0m \u001b[0matol\u001b[0m\u001b[0;34m,\u001b[0m \u001b[0mtcrit\u001b[0m\u001b[0;34m,\u001b[0m \u001b[0mh0\u001b[0m\u001b[0;34m,\u001b[0m \u001b[0mhmax\u001b[0m\u001b[0;34m,\u001b[0m \u001b[0mhmin\u001b[0m\u001b[0;34m,\u001b[0m\u001b[0;34m\u001b[0m\u001b[0;34m\u001b[0m\u001b[0m\n\u001b[1;32m    245\u001b[0m                              \u001b[0mixpr\u001b[0m\u001b[0;34m,\u001b[0m \u001b[0mmxstep\u001b[0m\u001b[0;34m,\u001b[0m \u001b[0mmxhnil\u001b[0m\u001b[0;34m,\u001b[0m \u001b[0mmxordn\u001b[0m\u001b[0;34m,\u001b[0m \u001b[0mmxords\u001b[0m\u001b[0;34m,\u001b[0m\u001b[0;34m\u001b[0m\u001b[0;34m\u001b[0m\u001b[0m\n",
            "\u001b[0;32m/usr/local/lib/python3.11/dist-packages/sympy/core/expr.py\u001b[0m in \u001b[0;36m__float__\u001b[0;34m(self)\u001b[0m\n\u001b[1;32m    338\u001b[0m         \u001b[0;32mif\u001b[0m \u001b[0mresult\u001b[0m\u001b[0;34m.\u001b[0m\u001b[0mis_number\u001b[0m \u001b[0;32mand\u001b[0m \u001b[0mresult\u001b[0m\u001b[0;34m.\u001b[0m\u001b[0mas_real_imag\u001b[0m\u001b[0;34m(\u001b[0m\u001b[0;34m)\u001b[0m\u001b[0;34m[\u001b[0m\u001b[0;36m1\u001b[0m\u001b[0;34m]\u001b[0m\u001b[0;34m:\u001b[0m\u001b[0;34m\u001b[0m\u001b[0;34m\u001b[0m\u001b[0m\n\u001b[1;32m    339\u001b[0m             \u001b[0;32mraise\u001b[0m \u001b[0mTypeError\u001b[0m\u001b[0;34m(\u001b[0m\u001b[0;34m\"Cannot convert complex to float\"\u001b[0m\u001b[0;34m)\u001b[0m\u001b[0;34m\u001b[0m\u001b[0;34m\u001b[0m\u001b[0m\n\u001b[0;32m--> 340\u001b[0;31m         \u001b[0;32mraise\u001b[0m \u001b[0mTypeError\u001b[0m\u001b[0;34m(\u001b[0m\u001b[0;34m\"Cannot convert expression to float\"\u001b[0m\u001b[0;34m)\u001b[0m\u001b[0;34m\u001b[0m\u001b[0;34m\u001b[0m\u001b[0m\n\u001b[0m\u001b[1;32m    341\u001b[0m \u001b[0;34m\u001b[0m\u001b[0m\n\u001b[1;32m    342\u001b[0m     \u001b[0;32mdef\u001b[0m \u001b[0m__complex__\u001b[0m\u001b[0;34m(\u001b[0m\u001b[0mself\u001b[0m\u001b[0;34m)\u001b[0m\u001b[0;34m:\u001b[0m\u001b[0;34m\u001b[0m\u001b[0;34m\u001b[0m\u001b[0m\n",
            "\u001b[0;31mTypeError\u001b[0m: Cannot convert expression to float"
          ]
        }
      ]
    },
    {
      "cell_type": "code",
      "source": [],
      "metadata": {
        "id": "dmRRwnstVLw6"
      },
      "execution_count": null,
      "outputs": []
    }
  ]
}